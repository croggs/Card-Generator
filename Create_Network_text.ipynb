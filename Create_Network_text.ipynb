{
 "cells": [
  {
   "cell_type": "code",
   "execution_count": 87,
   "metadata": {},
   "outputs": [],
   "source": [
    "# Imports\n",
    "import json\n",
    "import torch\n",
    "import torch.nn as nn\n",
    "import torch.optim as optim\n",
    "import numpy as np\n",
    "import matplotlib.pyplot as plt"
   ]
  },
  {
   "cell_type": "code",
   "execution_count": 88,
   "metadata": {},
   "outputs": [],
   "source": [
    "# Load training data from JSON file\n",
    "with open('output.json', 'r') as f:\n",
    "    data = json.load(f)"
   ]
  },
  {
   "cell_type": "code",
   "execution_count": 89,
   "metadata": {},
   "outputs": [],
   "source": [
    "## Extract values of \"atk\", \"def\", \"level\", \"race\", and \"attribute\" fields into a numpy array\n",
    "data_values = np.array([[d[\"atk\"], d[\"def\"], d[\"level\"], d[\"race\"], d[\"attribute\"]] for d in data])\n"
   ]
  },
  {
   "cell_type": "code",
   "execution_count": 90,
   "metadata": {},
   "outputs": [],
   "source": [
    "# Normalize data\n",
    "data_values = (data_values - np.min(data_values)) / (np.max(data_values) - np.min(data_values))"
   ]
  },
  {
   "cell_type": "code",
   "execution_count": 91,
   "metadata": {},
   "outputs": [],
   "source": [
    "# Define generator and discriminator\n",
    "class Generator(nn.Module):\n",
    "    def __init__(self):\n",
    "        super(Generator, self).__init__()\n",
    "        self.layer1 = nn.Linear(5, 128)\n",
    "        self.layer2 = nn.Linear(128, 256)\n",
    "        self.layer3 = nn.Linear(256, 512)\n",
    "        self.layer4 = nn.Linear(512, 1024)\n",
    "        self.layer5 = nn.Linear(1024, 5)\n",
    "\n",
    "    def forward(self, x):\n",
    "        x = torch.relu(self.layer1(x))\n",
    "        x = torch.relu(self.layer2(x))\n",
    "        x = torch.relu(self.layer3(x))\n",
    "        x = torch.relu(self.layer4(x))\n",
    "        x = torch.tanh(self.layer5(x))\n",
    "        return x"
   ]
  },
  {
   "cell_type": "code",
   "execution_count": 92,
   "metadata": {},
   "outputs": [],
   "source": [
    "class Discriminator(nn.Module):\n",
    "    def __init__(self):\n",
    "        super(Discriminator, self).__init__()\n",
    "        self.layer1 = nn.Linear(5, 128)\n",
    "        self.layer2 = nn.Linear(128, 256)\n",
    "        self.layer3 = nn.Linear(256, 512)\n",
    "        self.layer4 = nn.Linear(512, 1024)\n",
    "        self.layer5 = nn.Linear(1024, 1)\n",
    "\n",
    "    def forward(self, x):\n",
    "        x = torch.relu(self.layer1(x))\n",
    "        x = torch.relu(self.layer2(x))\n",
    "        x = torch.relu(self.layer3(x))\n",
    "        x = torch.relu(self.layer4(x))\n",
    "        x = torch.relu(self.layer5(x))\n",
    "        return x"
   ]
  },
  {
   "cell_type": "code",
   "execution_count": 93,
   "metadata": {},
   "outputs": [],
   "source": [
    "# Create instances of the generator and discriminator\n",
    "generator = Generator()\n",
    "discriminator = Discriminator()\n"
   ]
  },
  {
   "cell_type": "code",
   "execution_count": 94,
   "metadata": {},
   "outputs": [],
   "source": [
    "# Define loss function and optimizer\n",
    "criterion = nn.BCELoss()\n",
    "d_optimizer = optim.Adam(discriminator.parameters(), lr=0.0002)\n",
    "g_optimizer = optim.Adam(generator.parameters(), lr=0.0002)"
   ]
  },
  {
   "cell_type": "code",
   "execution_count": 95,
   "metadata": {},
   "outputs": [],
   "source": [
    "# Generate data points\n",
    "batch_size = 10\n",
    "noise = torch.randn(batch_size, 5)\n",
    "generated_data = generator(noise)"
   ]
  },
  {
   "cell_type": "code",
   "execution_count": 96,
   "metadata": {},
   "outputs": [],
   "source": [
    "# Define the range of possible values for each field\n",
    "atk_range = [0, 3000]\n",
    "def_range = [0, 3000]\n",
    "level_range = [1, 10]\n",
    "race_range = [1, 20]\n",
    "attribute_range = [1, 10]"
   ]
  },
  {
   "cell_type": "code",
   "execution_count": 97,
   "metadata": {},
   "outputs": [],
   "source": [
    "# Normalize the generated data\n",
    "generated_data[:, 0] = torch.div(torch.mul(generated_data[:, 0], atk_range[1] - atk_range[0]) + atk_range[0], 500, rounding_mode='floor') * 500\n",
    "generated_data[:, 1] = torch.div(torch.mul(generated_data[:, 1], def_range[1] - def_range[0]) + def_range[0], 500, rounding_mode='floor') * 500\n",
    "generated_data[:, 2] = torch.div(torch.mul(generated_data[:, 2], level_range[1] - level_range[0]) + level_range[0], 1, rounding_mode='floor') * 1\n",
    "generated_data[:, 3] = torch.div(torch.mul(generated_data[:, 3], race_range[1] - race_range[0]) + race_range[0], 1, rounding_mode='floor') * 1\n",
    "generated_data[:, 4] = torch.div(torch.mul(generated_data[:, 4], attribute_range[1] - attribute_range[0]) + attribute_range[0], 1, rounding_mode='floor') * 1"
   ]
  },
  {
   "cell_type": "code",
   "execution_count": 98,
   "metadata": {},
   "outputs": [
    {
     "name": "stdout",
     "output_type": "stream",
     "text": [
      "tensor([[-500.,    0.,    0.,    0.,    0.],\n",
      "        [-500.,    0.,    0.,    0.,    0.],\n",
      "        [-500.,    0.,    1.,    0.,    0.],\n",
      "        [-500.,    0.,    1.,    0.,    0.],\n",
      "        [-500.,    0.,    0.,    0.,    0.],\n",
      "        [-500., -500.,    1.,    0.,    0.],\n",
      "        [-500.,    0.,    0.,    0.,    0.],\n",
      "        [-500.,    0.,    0.,    0.,    0.],\n",
      "        [-500.,    0.,    0.,    0.,    0.],\n",
      "        [-500.,    0.,    0.,    0.,    0.]], grad_fn=<CopySlices>)\n"
     ]
    }
   ],
   "source": [
    "# Print generated data point\n",
    "print(generated_data)"
   ]
  }
 ],
 "metadata": {
  "kernelspec": {
   "display_name": "Python 3",
   "language": "python",
   "name": "python3"
  },
  "language_info": {
   "codemirror_mode": {
    "name": "ipython",
    "version": 3
   },
   "file_extension": ".py",
   "mimetype": "text/x-python",
   "name": "python",
   "nbconvert_exporter": "python",
   "pygments_lexer": "ipython3",
   "version": "3.9.5"
  },
  "orig_nbformat": 4,
  "vscode": {
   "interpreter": {
    "hash": "0ce4f606e5c568157242f2ea878844fb4ea32428cd757c71f04686393282fd69"
   }
  }
 },
 "nbformat": 4,
 "nbformat_minor": 2
}
